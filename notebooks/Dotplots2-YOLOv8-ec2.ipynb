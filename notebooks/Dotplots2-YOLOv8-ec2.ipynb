{
 "cells": [
  {
   "cell_type": "code",
   "execution_count": 1,
   "metadata": {},
   "outputs": [],
   "source": [
    "import pandas as pd\n",
    "import numpy as np\n",
    "import matplotlib.pyplot as plt\n",
    "import cv2\n",
    "\n",
    "import json\n",
    "import os\n",
    "from shutil import move, copy\n",
    "\n",
    "from ultralytics import YOLO"
   ]
  },
  {
   "cell_type": "code",
   "execution_count": 4,
   "metadata": {},
   "outputs": [
    {
     "data": {
      "text/html": [
       "<div>\n",
       "<style scoped>\n",
       "    .dataframe tbody tr th:only-of-type {\n",
       "        vertical-align: middle;\n",
       "    }\n",
       "\n",
       "    .dataframe tbody tr th {\n",
       "        vertical-align: top;\n",
       "    }\n",
       "\n",
       "    .dataframe thead th {\n",
       "        text-align: right;\n",
       "    }\n",
       "</style>\n",
       "<table border=\"1\" class=\"dataframe\">\n",
       "  <thead>\n",
       "    <tr style=\"text-align: right;\">\n",
       "      <th></th>\n",
       "      <th>data_series</th>\n",
       "      <th>data_coords</th>\n",
       "      <th>name</th>\n",
       "      <th>path</th>\n",
       "    </tr>\n",
       "  </thead>\n",
       "  <tbody>\n",
       "    <tr>\n",
       "      <th>0</th>\n",
       "      <td>[{'x': '1900', 'y': 9}, {'x': '2000', 'y': 5},...</td>\n",
       "      <td>[[{'x': 113.33333333333333, 'y': 232.199999999...</td>\n",
       "      <td>722775563cdf</td>\n",
       "      <td>../data/interim/Dotplots/722775563cdf.jpg</td>\n",
       "    </tr>\n",
       "    <tr>\n",
       "      <th>1</th>\n",
       "      <td>[{'x': 'Plot 169', 'y': 2}, {'x': 'Plot 170', ...</td>\n",
       "      <td>[[{'x': 111.33333333333333, 'y': 233.0}, {'x':...</td>\n",
       "      <td>541072efa16e</td>\n",
       "      <td>../data/interim/Dotplots/541072efa16e.jpg</td>\n",
       "    </tr>\n",
       "    <tr>\n",
       "      <th>2</th>\n",
       "      <td>[{'x': '1985', 'y': 6}, {'x': '1992', 'y': 5},...</td>\n",
       "      <td>[[{'x': 118.39999999999999, 'y': 237.386666666...</td>\n",
       "      <td>08b5c8e2dc12</td>\n",
       "      <td>../data/interim/Dotplots/08b5c8e2dc12.jpg</td>\n",
       "    </tr>\n",
       "    <tr>\n",
       "      <th>3</th>\n",
       "      <td>[{'x': 'Sasvad', 'y': 9}, {'x': 'Soron', 'y': ...</td>\n",
       "      <td>[[{'x': 102.4, 'y': 67.71666666666667}, {'x': ...</td>\n",
       "      <td>75acb35b82b5</td>\n",
       "      <td>../data/interim/Dotplots/75acb35b82b5.jpg</td>\n",
       "    </tr>\n",
       "    <tr>\n",
       "      <th>4</th>\n",
       "      <td>[{'x': '1985', 'y': 7}, {'x': '1992', 'y': 3},...</td>\n",
       "      <td>[[{'x': 118.0, 'y': 113.23333333333335}, {'x':...</td>\n",
       "      <td>87acdd66b8e5</td>\n",
       "      <td>../data/interim/Dotplots/87acdd66b8e5.jpg</td>\n",
       "    </tr>\n",
       "  </tbody>\n",
       "</table>\n",
       "</div>"
      ],
      "text/plain": [
       "                                         data_series  \\\n",
       "0  [{'x': '1900', 'y': 9}, {'x': '2000', 'y': 5},...   \n",
       "1  [{'x': 'Plot 169', 'y': 2}, {'x': 'Plot 170', ...   \n",
       "2  [{'x': '1985', 'y': 6}, {'x': '1992', 'y': 5},...   \n",
       "3  [{'x': 'Sasvad', 'y': 9}, {'x': 'Soron', 'y': ...   \n",
       "4  [{'x': '1985', 'y': 7}, {'x': '1992', 'y': 3},...   \n",
       "\n",
       "                                         data_coords          name  \\\n",
       "0  [[{'x': 113.33333333333333, 'y': 232.199999999...  722775563cdf   \n",
       "1  [[{'x': 111.33333333333333, 'y': 233.0}, {'x':...  541072efa16e   \n",
       "2  [[{'x': 118.39999999999999, 'y': 237.386666666...  08b5c8e2dc12   \n",
       "3  [[{'x': 102.4, 'y': 67.71666666666667}, {'x': ...  75acb35b82b5   \n",
       "4  [[{'x': 118.0, 'y': 113.23333333333335}, {'x':...  87acdd66b8e5   \n",
       "\n",
       "                                        path  \n",
       "0  ../data/interim/Dotplots/722775563cdf.jpg  \n",
       "1  ../data/interim/Dotplots/541072efa16e.jpg  \n",
       "2  ../data/interim/Dotplots/08b5c8e2dc12.jpg  \n",
       "3  ../data/interim/Dotplots/75acb35b82b5.jpg  \n",
       "4  ../data/interim/Dotplots/87acdd66b8e5.jpg  "
      ]
     },
     "execution_count": 4,
     "metadata": {},
     "output_type": "execute_result"
    }
   ],
   "source": [
    "data = pd.read_csv('annots_imgs_merged.csv')\n",
    "dot = data[data['chart-type'] == 'dot']\n",
    "dot = dot.head(3000)\n",
    "dot = dot[['data-series','visual-elements.dot points','file_name','image_path']]\n",
    "dot.columns = ['data_series','data_coords','name','path']\n",
    "dot.reset_index(drop=True, inplace=True)\n",
    "dot.head()"
   ]
  },
  {
   "cell_type": "code",
   "execution_count": 5,
   "metadata": {},
   "outputs": [
    {
     "data": {
      "text/html": [
       "<div>\n",
       "<style scoped>\n",
       "    .dataframe tbody tr th:only-of-type {\n",
       "        vertical-align: middle;\n",
       "    }\n",
       "\n",
       "    .dataframe tbody tr th {\n",
       "        vertical-align: top;\n",
       "    }\n",
       "\n",
       "    .dataframe thead th {\n",
       "        text-align: right;\n",
       "    }\n",
       "</style>\n",
       "<table border=\"1\" class=\"dataframe\">\n",
       "  <thead>\n",
       "    <tr style=\"text-align: right;\">\n",
       "      <th></th>\n",
       "      <th>data_series</th>\n",
       "      <th>data_coords</th>\n",
       "      <th>name</th>\n",
       "      <th>path</th>\n",
       "    </tr>\n",
       "  </thead>\n",
       "  <tbody>\n",
       "    <tr>\n",
       "      <th>0</th>\n",
       "      <td>[{'x': '1900', 'y': 9}, {'x': '2000', 'y': 5},...</td>\n",
       "      <td>[[{'x': 113.33333333333333, 'y': 232.199999999...</td>\n",
       "      <td>722775563cdf</td>\n",
       "      <td>/home/ubuntu/project/Dotplots/722775563cdf.jpg</td>\n",
       "    </tr>\n",
       "    <tr>\n",
       "      <th>1</th>\n",
       "      <td>[{'x': 'Plot 169', 'y': 2}, {'x': 'Plot 170', ...</td>\n",
       "      <td>[[{'x': 111.33333333333333, 'y': 233.0}, {'x':...</td>\n",
       "      <td>541072efa16e</td>\n",
       "      <td>/home/ubuntu/project/Dotplots/541072efa16e.jpg</td>\n",
       "    </tr>\n",
       "    <tr>\n",
       "      <th>2</th>\n",
       "      <td>[{'x': '1985', 'y': 6}, {'x': '1992', 'y': 5},...</td>\n",
       "      <td>[[{'x': 118.39999999999999, 'y': 237.386666666...</td>\n",
       "      <td>08b5c8e2dc12</td>\n",
       "      <td>/home/ubuntu/project/Dotplots/08b5c8e2dc12.jpg</td>\n",
       "    </tr>\n",
       "    <tr>\n",
       "      <th>3</th>\n",
       "      <td>[{'x': 'Sasvad', 'y': 9}, {'x': 'Soron', 'y': ...</td>\n",
       "      <td>[[{'x': 102.4, 'y': 67.71666666666667}, {'x': ...</td>\n",
       "      <td>75acb35b82b5</td>\n",
       "      <td>/home/ubuntu/project/Dotplots/75acb35b82b5.jpg</td>\n",
       "    </tr>\n",
       "    <tr>\n",
       "      <th>4</th>\n",
       "      <td>[{'x': '1985', 'y': 7}, {'x': '1992', 'y': 3},...</td>\n",
       "      <td>[[{'x': 118.0, 'y': 113.23333333333335}, {'x':...</td>\n",
       "      <td>87acdd66b8e5</td>\n",
       "      <td>/home/ubuntu/project/Dotplots/87acdd66b8e5.jpg</td>\n",
       "    </tr>\n",
       "  </tbody>\n",
       "</table>\n",
       "</div>"
      ],
      "text/plain": [
       "                                         data_series  \\\n",
       "0  [{'x': '1900', 'y': 9}, {'x': '2000', 'y': 5},...   \n",
       "1  [{'x': 'Plot 169', 'y': 2}, {'x': 'Plot 170', ...   \n",
       "2  [{'x': '1985', 'y': 6}, {'x': '1992', 'y': 5},...   \n",
       "3  [{'x': 'Sasvad', 'y': 9}, {'x': 'Soron', 'y': ...   \n",
       "4  [{'x': '1985', 'y': 7}, {'x': '1992', 'y': 3},...   \n",
       "\n",
       "                                         data_coords          name  \\\n",
       "0  [[{'x': 113.33333333333333, 'y': 232.199999999...  722775563cdf   \n",
       "1  [[{'x': 111.33333333333333, 'y': 233.0}, {'x':...  541072efa16e   \n",
       "2  [[{'x': 118.39999999999999, 'y': 237.386666666...  08b5c8e2dc12   \n",
       "3  [[{'x': 102.4, 'y': 67.71666666666667}, {'x': ...  75acb35b82b5   \n",
       "4  [[{'x': 118.0, 'y': 113.23333333333335}, {'x':...  87acdd66b8e5   \n",
       "\n",
       "                                             path  \n",
       "0  /home/ubuntu/project/Dotplots/722775563cdf.jpg  \n",
       "1  /home/ubuntu/project/Dotplots/541072efa16e.jpg  \n",
       "2  /home/ubuntu/project/Dotplots/08b5c8e2dc12.jpg  \n",
       "3  /home/ubuntu/project/Dotplots/75acb35b82b5.jpg  \n",
       "4  /home/ubuntu/project/Dotplots/87acdd66b8e5.jpg  "
      ]
     },
     "execution_count": 5,
     "metadata": {},
     "output_type": "execute_result"
    }
   ],
   "source": [
    "path = '/home/ubuntu/project/Dotplots'\n",
    "filenames = dot['name'].values\n",
    "new_paths = []\n",
    "for file in filenames:\n",
    "    new_path = os.path.join(path,file)+'.jpg'\n",
    "    new_paths.append(new_path)\n",
    "\n",
    "dot['path'] = new_paths\n",
    "dot.head()"
   ]
  },
  {
   "cell_type": "code",
   "execution_count": 6,
   "metadata": {},
   "outputs": [
    {
     "data": {
      "text/plain": [
       "(3000, 4)"
      ]
     },
     "execution_count": 6,
     "metadata": {},
     "output_type": "execute_result"
    }
   ],
   "source": [
    "dot.shape"
   ]
  },
  {
   "cell_type": "code",
   "execution_count": 5,
   "metadata": {},
   "outputs": [
    {
     "data": {
      "image/png": "[encoded data removed]",
      "text/plain": [
       "<Figure size 640x480 with 1 Axes>"
      ]
     },
     "metadata": {},
     "output_type": "display_data"
    }
   ],
   "source": [
    "coords = dot['data_coords'][2]\n",
    "coords = coords.replace(\"'\", \"\\\"\")\n",
    "coords_list = json.loads(coords)\n",
    "\n",
    "    # extract important image info\n",
    "path = dot['path'][2]\n",
    "name = dot['name'][2]\n",
    "img = cv2.imread(path)\n",
    "height = img.shape[0]\n",
    "width = img.shape[1]\n",
    "\n",
    "    # Save the xy coords into a list\n",
    "xy_coords = []\n",
    "for data_point in coords_list[0]:\n",
    "    xy_coords.append((data_point['x']-10,data_point['y']-10, data_point['x']+10, data_point['y']+10))\n",
    "\n",
    "\n",
    "dot_img = img.copy()\n",
    "for bbox in xy_coords:\n",
    "            x1, y1, x2, y2 = bbox\n",
    "            x1 = int(x1)\n",
    "            x2 = int(x2)\n",
    "            y1 = int(y1)\n",
    "            y2 = int(y2)\n",
    "            cv2.rectangle(dot_img, (x1, y1), (x2, y2), (0, 255, 0), 2)\n",
    "\n",
    "plt.imshow(dot_img)\n",
    "plt.show()\n",
    "\n",
    "    "
   ]
  },
  {
   "cell_type": "code",
   "execution_count": null,
   "metadata": {},
   "outputs": [],
   "source": []
  },
  {
   "cell_type": "code",
   "execution_count": 7,
   "metadata": {},
   "outputs": [
    {
     "data": {
      "text/plain": [
       "3000"
      ]
     },
     "execution_count": 7,
     "metadata": {},
     "output_type": "execute_result"
    }
   ],
   "source": [
    "dataframes = []\n",
    "for i in range(len(dot)):\n",
    "    # extract xy coordinates from data_coords column\n",
    "    coords = dot['data_coords'][i]\n",
    "    coords = coords.replace(\"'\", \"\\\"\")\n",
    "    coords_list = json.loads(coords)\n",
    "\n",
    "    # extract important image info\n",
    "    path = dot['path'][i]\n",
    "    name = dot['name'][i]\n",
    "    img = cv2.imread(path)\n",
    "    height = img.shape[0]\n",
    "    width = img.shape[1]\n",
    "\n",
    "    # Save the xy coords into a list\n",
    "    xy_coords = []\n",
    "    for data_point in coords_list[0]:\n",
    "        xy_coords.append((data_point['x'],data_point['y']))\n",
    "\n",
    "    # Transform the xy coords into YOLO bboxes \n",
    "    bboxes = []\n",
    "    for xy in xy_coords:\n",
    "        x, y = xy\n",
    "        bbox = (int(x)/width, int(y)/height, 20/width, 20/height)\n",
    "        bboxes.append(bbox)\n",
    "\n",
    "    # Save into list of dataframe\n",
    "    yolo = pd.DataFrame(bboxes, columns=['x','y','w','h'])\n",
    "    yolo['class'] = 0\n",
    "    yolo['path'] = path\n",
    "    yolo['name'] = name\n",
    "    yolo = yolo[['path','name','class','x','y','w','h']]\n",
    "    dataframes.append(yolo)\n",
    "\n",
    "# Concat dataframes and check that the number of unique images is correct\n",
    "yolo_df = pd.concat(dataframes)\n",
    "yolo_df['path'].nunique()"
   ]
  },
  {
   "cell_type": "code",
   "execution_count": 8,
   "metadata": {},
   "outputs": [
    {
     "data": {
      "text/html": [
       "<div>\n",
       "<style scoped>\n",
       "    .dataframe tbody tr th:only-of-type {\n",
       "        vertical-align: middle;\n",
       "    }\n",
       "\n",
       "    .dataframe tbody tr th {\n",
       "        vertical-align: top;\n",
       "    }\n",
       "\n",
       "    .dataframe thead th {\n",
       "        text-align: right;\n",
       "    }\n",
       "</style>\n",
       "<table border=\"1\" class=\"dataframe\">\n",
       "  <thead>\n",
       "    <tr style=\"text-align: right;\">\n",
       "      <th></th>\n",
       "      <th>path</th>\n",
       "      <th>name</th>\n",
       "      <th>class</th>\n",
       "      <th>x</th>\n",
       "      <th>y</th>\n",
       "      <th>w</th>\n",
       "      <th>h</th>\n",
       "    </tr>\n",
       "  </thead>\n",
       "  <tbody>\n",
       "    <tr>\n",
       "      <th>0</th>\n",
       "      <td>/home/ubuntu/project/Dotplots/722775563cdf.jpg</td>\n",
       "      <td>722775563cdf</td>\n",
       "      <td>0</td>\n",
       "      <td>0.226</td>\n",
       "      <td>0.789116</td>\n",
       "      <td>0.04</td>\n",
       "      <td>0.068027</td>\n",
       "    </tr>\n",
       "    <tr>\n",
       "      <th>1</th>\n",
       "      <td>/home/ubuntu/project/Dotplots/722775563cdf.jpg</td>\n",
       "      <td>722775563cdf</td>\n",
       "      <td>0</td>\n",
       "      <td>0.224</td>\n",
       "      <td>0.721088</td>\n",
       "      <td>0.04</td>\n",
       "      <td>0.068027</td>\n",
       "    </tr>\n",
       "    <tr>\n",
       "      <th>2</th>\n",
       "      <td>/home/ubuntu/project/Dotplots/722775563cdf.jpg</td>\n",
       "      <td>722775563cdf</td>\n",
       "      <td>0</td>\n",
       "      <td>0.224</td>\n",
       "      <td>0.656463</td>\n",
       "      <td>0.04</td>\n",
       "      <td>0.068027</td>\n",
       "    </tr>\n",
       "    <tr>\n",
       "      <th>3</th>\n",
       "      <td>/home/ubuntu/project/Dotplots/722775563cdf.jpg</td>\n",
       "      <td>722775563cdf</td>\n",
       "      <td>0</td>\n",
       "      <td>0.224</td>\n",
       "      <td>0.581633</td>\n",
       "      <td>0.04</td>\n",
       "      <td>0.068027</td>\n",
       "    </tr>\n",
       "    <tr>\n",
       "      <th>4</th>\n",
       "      <td>/home/ubuntu/project/Dotplots/722775563cdf.jpg</td>\n",
       "      <td>722775563cdf</td>\n",
       "      <td>0</td>\n",
       "      <td>0.224</td>\n",
       "      <td>0.510204</td>\n",
       "      <td>0.04</td>\n",
       "      <td>0.068027</td>\n",
       "    </tr>\n",
       "  </tbody>\n",
       "</table>\n",
       "</div>"
      ],
      "text/plain": [
       "                                             path          name  class      x  \\\n",
       "0  /home/ubuntu/project/Dotplots/722775563cdf.jpg  722775563cdf      0  0.226   \n",
       "1  /home/ubuntu/project/Dotplots/722775563cdf.jpg  722775563cdf      0  0.224   \n",
       "2  /home/ubuntu/project/Dotplots/722775563cdf.jpg  722775563cdf      0  0.224   \n",
       "3  /home/ubuntu/project/Dotplots/722775563cdf.jpg  722775563cdf      0  0.224   \n",
       "4  /home/ubuntu/project/Dotplots/722775563cdf.jpg  722775563cdf      0  0.224   \n",
       "\n",
       "          y     w         h  \n",
       "0  0.789116  0.04  0.068027  \n",
       "1  0.721088  0.04  0.068027  \n",
       "2  0.656463  0.04  0.068027  \n",
       "3  0.581633  0.04  0.068027  \n",
       "4  0.510204  0.04  0.068027  "
      ]
     },
     "execution_count": 8,
     "metadata": {},
     "output_type": "execute_result"
    }
   ],
   "source": [
    "yolo_df.head()"
   ]
  },
  {
   "cell_type": "code",
   "execution_count": 9,
   "metadata": {},
   "outputs": [
    {
     "data": {
      "text/plain": [
       "(2400, 600)"
      ]
     },
     "execution_count": 9,
     "metadata": {},
     "output_type": "execute_result"
    }
   ],
   "source": [
    "unique_images = yolo_df['path'].unique()\n",
    "img_df = pd.DataFrame(unique_images,columns=['path'])\n",
    "img_train = tuple(img_df.sample(frac=0.8)['path'])\n",
    "img_test = tuple(img_df.query(f'path not in {img_train}')['path'])\n",
    "len(img_train), len(img_test)"
   ]
  },
  {
   "cell_type": "code",
   "execution_count": 10,
   "metadata": {},
   "outputs": [],
   "source": [
    "train_df = yolo_df.query(f'path in {img_train}')\n",
    "test_df = yolo_df.query(f'path in {img_test}')"
   ]
  },
  {
   "cell_type": "code",
   "execution_count": 11,
   "metadata": {},
   "outputs": [],
   "source": [
    "src_folder = '/home/ubuntu/project/Dotplots'\n",
    "train_folder = '/home/ubuntu/project/train'\n",
    "test_folder = '/home/ubuntu/project/test'"
   ]
  },
  {
   "cell_type": "code",
   "execution_count": 12,
   "metadata": {},
   "outputs": [],
   "source": [
    "cols = ['name','class','x','y','w','h']\n",
    "groupby_obj_train = train_df[cols].groupby('name')\n",
    "groupby_obj_test = test_df[cols].groupby('name')"
   ]
  },
  {
   "cell_type": "code",
   "execution_count": 13,
   "metadata": {},
   "outputs": [],
   "source": [
    "def save_data(filename, folder_path, group_obj):\n",
    "    #copy image\n",
    "    src = os.path.join(src_folder,filename)+'.jpg'\n",
    "    dst = os.path.join(folder_path, filename)+'.jpg'\n",
    "    move(src, dst)\n",
    "\n",
    "    #save labels\n",
    "    text_filename = os.path.join(folder_path,filename+'.txt')\n",
    "    group_obj.get_group(filename).set_index('name').to_csv(text_filename, index=False, header=False, sep=' ')"
   ]
  },
  {
   "cell_type": "code",
   "execution_count": 14,
   "metadata": {},
   "outputs": [
    {
     "data": {
      "text/plain": [
       "0       None\n",
       "1       None\n",
       "2       None\n",
       "3       None\n",
       "4       None\n",
       "        ... \n",
       "2395    None\n",
       "2396    None\n",
       "2397    None\n",
       "2398    None\n",
       "2399    None\n",
       "Length: 2400, dtype: object"
      ]
     },
     "execution_count": 14,
     "metadata": {},
     "output_type": "execute_result"
    }
   ],
   "source": [
    "filename_series = pd.Series(groupby_obj_train.groups.keys())\n",
    "filename_series.apply(save_data,args=(train_folder, groupby_obj_train))"
   ]
  },
  {
   "cell_type": "code",
   "execution_count": 15,
   "metadata": {},
   "outputs": [
    {
     "data": {
      "text/plain": [
       "0      None\n",
       "1      None\n",
       "2      None\n",
       "3      None\n",
       "4      None\n",
       "       ... \n",
       "595    None\n",
       "596    None\n",
       "597    None\n",
       "598    None\n",
       "599    None\n",
       "Length: 600, dtype: object"
      ]
     },
     "execution_count": 15,
     "metadata": {},
     "output_type": "execute_result"
    }
   ],
   "source": [
    "filename_series_test = pd.Series(groupby_obj_test.groups.keys())\n",
    "filename_series_test.apply(save_data,args=(test_folder, groupby_obj_test))"
   ]
  },
  {
   "cell_type": "code",
   "execution_count": 2,
   "metadata": {},
   "outputs": [
    {
     "name": "stderr",
     "output_type": "stream",
     "text": [
      "\n",
      "                   from  n    params  module                                       arguments                     \n",
      "  0                  -1  1       464  ultralytics.nn.modules.conv.Conv             [3, 16, 3, 2]                 \n",
      "  1                  -1  1      4672  ultralytics.nn.modules.conv.Conv             [16, 32, 3, 2]                \n",
      "  2                  -1  1      7360  ultralytics.nn.modules.block.C2f             [32, 32, 1, True]             \n",
      "  3                  -1  1     18560  ultralytics.nn.modules.conv.Conv             [32, 64, 3, 2]                \n",
      "  4                  -1  2     49664  ultralytics.nn.modules.block.C2f             [64, 64, 2, True]             \n",
      "  5                  -1  1     73984  ultralytics.nn.modules.conv.Conv             [64, 128, 3, 2]               \n",
      "  6                  -1  2    197632  ultralytics.nn.modules.block.C2f             [128, 128, 2, True]           \n",
      "  7                  -1  1    295424  ultralytics.nn.modules.conv.Conv             [128, 256, 3, 2]              \n",
      "  8                  -1  1    460288  ultralytics.nn.modules.block.C2f             [256, 256, 1, True]           \n",
      "  9                  -1  1    164608  ultralytics.nn.modules.block.SPPF            [256, 256, 5]                 \n",
      " 10                  -1  1         0  torch.nn.modules.upsampling.Upsample         [None, 2, 'nearest']          \n",
      " 11             [-1, 6]  1         0  ultralytics.nn.modules.conv.Concat           [1]                           \n",
      " 12                  -1  1    148224  ultralytics.nn.modules.block.C2f             [384, 128, 1]                 \n",
      " 13                  -1  1         0  torch.nn.modules.upsampling.Upsample         [None, 2, 'nearest']          \n",
      " 14             [-1, 4]  1         0  ultralytics.nn.modules.conv.Concat           [1]                           \n",
      " 15                  -1  1     37248  ultralytics.nn.modules.block.C2f             [192, 64, 1]                  \n",
      " 16                  -1  1     36992  ultralytics.nn.modules.conv.Conv             [64, 64, 3, 2]                \n",
      " 17            [-1, 12]  1         0  ultralytics.nn.modules.conv.Concat           [1]                           \n",
      " 18                  -1  1    123648  ultralytics.nn.modules.block.C2f             [192, 128, 1]                 \n",
      " 19                  -1  1    147712  ultralytics.nn.modules.conv.Conv             [128, 128, 3, 2]              \n",
      " 20             [-1, 9]  1         0  ultralytics.nn.modules.conv.Concat           [1]                           \n",
      " 21                  -1  1    493056  ultralytics.nn.modules.block.C2f             [384, 256, 1]                 \n",
      " 22        [15, 18, 21]  1    897664  ultralytics.nn.modules.head.Detect           [80, [64, 128, 256]]          \n",
      "YOLOv8n summary: 225 layers, 3157200 parameters, 3157184 gradients\n",
      "\n"
     ]
    }
   ],
   "source": [
    "from ultralytics import YOLO\n",
    "model = YOLO('yolov8n.yaml')\n",
    "# model = YOLO('yolov8s-p2.yaml').load('yolov8s.pt')"
   ]
  },
  {
   "cell_type": "code",
   "execution_count": 3,
   "metadata": {},
   "outputs": [
    {
     "name": "stderr",
     "output_type": "stream",
     "text": [
      "Ultralytics YOLOv8.0.136 🚀 Python-3.8.10 torch-2.0.1+cu117 CPU (Intel Xeon E5-2666 v3 2.90GHz)\n",
      "\u001b[34m\u001b[1mengine/trainer: \u001b[0mtask=detect, mode=train, model=yolov8n.yaml, data=/home/ubuntu/project/data.yaml, epochs=5, patience=50, batch=16, imgsz=640, save=True, save_period=-1, cache=False, device=None, workers=8, project=None, name=None, exist_ok=False, pretrained=True, optimizer=auto, verbose=True, seed=0, deterministic=True, single_cls=False, rect=False, cos_lr=False, close_mosaic=10, resume=False, amp=True, fraction=1.0, profile=False, overlap_mask=True, mask_ratio=4, dropout=0.0, val=True, split=val, save_json=False, save_hybrid=False, conf=None, iou=0.7, max_det=300, half=False, dnn=False, plots=True, source=None, show=False, save_txt=False, save_conf=False, save_crop=False, show_labels=True, show_conf=True, vid_stride=1, line_width=None, visualize=False, augment=False, agnostic_nms=False, classes=None, retina_masks=False, boxes=True, format=torchscript, keras=False, optimize=False, int8=False, dynamic=False, simplify=False, opset=None, workspace=4, nms=False, lr0=0.01, lrf=0.01, momentum=0.937, weight_decay=0.0005, warmup_epochs=3.0, warmup_momentum=0.8, warmup_bias_lr=0.1, box=7.5, cls=0.5, dfl=1.5, pose=12.0, kobj=1.0, label_smoothing=0.0, nbs=64, hsv_h=0.015, hsv_s=0.7, hsv_v=0.4, degrees=0.0, translate=0.1, scale=0.5, shear=0.0, perspective=0.0, flipud=0.0, fliplr=0.5, mosaic=1.0, mixup=0.0, copy_paste=0.0, cfg=None, tracker=botsort.yaml, save_dir=runs/detect/train2\n",
      "Overriding model.yaml nc=80 with nc=1\n",
      "\n",
      "                   from  n    params  module                                       arguments                     \n",
      "  0                  -1  1       464  ultralytics.nn.modules.conv.Conv             [3, 16, 3, 2]                 \n",
      "  1                  -1  1      4672  ultralytics.nn.modules.conv.Conv             [16, 32, 3, 2]                \n",
      "  2                  -1  1      7360  ultralytics.nn.modules.block.C2f             [32, 32, 1, True]             \n",
      "  3                  -1  1     18560  ultralytics.nn.modules.conv.Conv             [32, 64, 3, 2]                \n",
      "  4                  -1  2     49664  ultralytics.nn.modules.block.C2f             [64, 64, 2, True]             \n",
      "  5                  -1  1     73984  ultralytics.nn.modules.conv.Conv             [64, 128, 3, 2]               \n",
      "  6                  -1  2    197632  ultralytics.nn.modules.block.C2f             [128, 128, 2, True]           \n",
      "  7                  -1  1    295424  ultralytics.nn.modules.conv.Conv             [128, 256, 3, 2]              \n",
      "  8                  -1  1    460288  ultralytics.nn.modules.block.C2f             [256, 256, 1, True]           \n",
      "  9                  -1  1    164608  ultralytics.nn.modules.block.SPPF            [256, 256, 5]                 \n",
      " 10                  -1  1         0  torch.nn.modules.upsampling.Upsample         [None, 2, 'nearest']          \n",
      " 11             [-1, 6]  1         0  ultralytics.nn.modules.conv.Concat           [1]                           \n",
      " 12                  -1  1    148224  ultralytics.nn.modules.block.C2f             [384, 128, 1]                 \n",
      " 13                  -1  1         0  torch.nn.modules.upsampling.Upsample         [None, 2, 'nearest']          \n",
      " 14             [-1, 4]  1         0  ultralytics.nn.modules.conv.Concat           [1]                           \n",
      " 15                  -1  1     37248  ultralytics.nn.modules.block.C2f             [192, 64, 1]                  \n",
      " 16                  -1  1     36992  ultralytics.nn.modules.conv.Conv             [64, 64, 3, 2]                \n",
      " 17            [-1, 12]  1         0  ultralytics.nn.modules.conv.Concat           [1]                           \n",
      " 18                  -1  1    123648  ultralytics.nn.modules.block.C2f             [192, 128, 1]                 \n",
      " 19                  -1  1    147712  ultralytics.nn.modules.conv.Conv             [128, 128, 3, 2]              \n",
      " 20             [-1, 9]  1         0  ultralytics.nn.modules.conv.Concat           [1]                           \n",
      " 21                  -1  1    493056  ultralytics.nn.modules.block.C2f             [384, 256, 1]                 \n",
      " 22        [15, 18, 21]  1    751507  ultralytics.nn.modules.head.Detect           [1, [64, 128, 256]]           \n",
      "YOLOv8n summary: 225 layers, 3011043 parameters, 3011027 gradients\n",
      "\n",
      "\u001b[34m\u001b[1mtrain: \u001b[0mScanning /home/ubuntu/project/train.cache... 2400 images, 0 backgrounds, 0 corrupt: 100%|██████████| 2400/2400 [00:00<?, ?it/s]\n",
      "\u001b[34m\u001b[1mtrain: \u001b[0mWARNING ⚠️ /home/ubuntu/project/train/bc4558e4d187.jpg: 1 duplicate labels removed\n",
      "\u001b[34m\u001b[1mtrain: \u001b[0mWARNING ⚠️ /home/ubuntu/project/train/df7d4f1c1c8f.jpg: 1 duplicate labels removed\n",
      "/home/ubuntu/.local/lib/python3.8/site-packages/torch/cuda/__init__.py:546: UserWarning: Can't initialize NVML\n",
      "  warnings.warn(\"Can't initialize NVML\")\n",
      "\u001b[34m\u001b[1mval: \u001b[0mScanning /home/ubuntu/project/test.cache... 600 images, 0 backgrounds, 0 corrupt: 100%|██████████| 600/600 [00:00<?, ?it/s]\n",
      "Plotting labels to runs/detect/train2/labels.jpg... \n",
      "\u001b[34m\u001b[1moptimizer:\u001b[0m AdamW(lr=0.002, momentum=0.9) with parameter groups 57 weight(decay=0.0), 64 weight(decay=0.0005), 63 bias(decay=0.0)\n",
      "Image sizes 640 train, 640 val\n",
      "Using 0 dataloader workers\n",
      "Logging results to \u001b[1mruns/detect/train2\u001b[0m\n",
      "Starting training for 5 epochs...\n",
      "\n",
      "      Epoch    GPU_mem   box_loss   cls_loss   dfl_loss  Instances       Size\n",
      "        1/5         0G      3.455      1.886      2.192       1106        640: 100%|██████████| 150/150 [14:36<00:00,  5.84s/it]\n",
      "                 Class     Images  Instances      Box(P          R      mAP50  mAP50-95): 100%|██████████| 19/19 [00:50<00:00,  2.67s/it]\n",
      "                   all        600      20278      0.987      0.988      0.989      0.539\n",
      "\n",
      "      Epoch    GPU_mem   box_loss   cls_loss   dfl_loss  Instances       Size\n",
      "        2/5         0G      1.599      0.746      1.115       1035        640: 100%|██████████| 150/150 [14:30<00:00,  5.80s/it]\n",
      "                 Class     Images  Instances      Box(P          R      mAP50  mAP50-95): 100%|██████████| 19/19 [00:50<00:00,  2.68s/it]\n",
      "                   all        600      20278      0.939      0.934       0.95      0.528\n",
      "\n",
      "      Epoch    GPU_mem   box_loss   cls_loss   dfl_loss  Instances       Size\n",
      "        3/5         0G      1.501     0.6829       1.04       1034        640: 100%|██████████| 150/150 [14:20<00:00,  5.73s/it]\n",
      "                 Class     Images  Instances      Box(P          R      mAP50  mAP50-95): 100%|██████████| 19/19 [00:50<00:00,  2.65s/it]\n",
      "                   all        600      20278      0.991      0.993      0.994      0.535\n",
      "\n",
      "      Epoch    GPU_mem   box_loss   cls_loss   dfl_loss  Instances       Size\n",
      "        4/5         0G      1.437     0.6328      1.013        852        640: 100%|██████████| 150/150 [14:24<00:00,  5.76s/it]\n",
      "                 Class     Images  Instances      Box(P          R      mAP50  mAP50-95): 100%|██████████| 19/19 [00:52<00:00,  2.77s/it]\n",
      "                   all        600      20278      0.973      0.973       0.98      0.536\n",
      "\n",
      "      Epoch    GPU_mem   box_loss   cls_loss   dfl_loss  Instances       Size\n",
      "        5/5         0G      1.386     0.6019      0.995       1092        640: 100%|██████████| 150/150 [14:18<00:00,  5.72s/it]\n",
      "                 Class     Images  Instances      Box(P          R      mAP50  mAP50-95): 100%|██████████| 19/19 [01:02<00:00,  3.31s/it]\n",
      "                   all        600      20278      0.982      0.981      0.991      0.613\n",
      "\n",
      "5 epochs completed in 1.278 hours.\n",
      "Optimizer stripped from runs/detect/train2/weights/last.pt, 6.2MB\n",
      "Optimizer stripped from runs/detect/train2/weights/best.pt, 6.2MB\n",
      "\n",
      "Validating runs/detect/train2/weights/best.pt...\n",
      "Ultralytics YOLOv8.0.136 🚀 Python-3.8.10 torch-2.0.1+cu117 CPU (Intel Xeon E5-2666 v3 2.90GHz)\n",
      "YOLOv8n summary (fused): 168 layers, 3005843 parameters, 0 gradients\n",
      "                 Class     Images  Instances      Box(P          R      mAP50  mAP50-95): 100%|██████████| 19/19 [00:52<00:00,  2.75s/it]\n",
      "                   all        600      20278      0.982      0.981      0.991      0.613\n",
      "Speed: 0.6ms preprocess, 62.6ms inference, 0.0ms loss, 0.7ms postprocess per image\n",
      "Results saved to \u001b[1mruns/detect/train2\u001b[0m\n"
     ]
    }
   ],
   "source": [
    "model.train(data='/home/ubuntu/project/data.yaml', epochs=5)"
   ]
  }
 ],
 "metadata": {
  "kernelspec": {
   "display_name": "graphs-capstone-env",
   "language": "python",
   "name": "python3"
  },
  "language_info": {
   "codemirror_mode": {
    "name": "ipython",
    "version": 3
   },
   "file_extension": ".py",
   "mimetype": "text/x-python",
   "name": "python",
   "nbconvert_exporter": "python",
   "pygments_lexer": "ipython3",
   "version": "3.8.10"
  },
  "orig_nbformat": 4
 },
 "nbformat": 4,
 "nbformat_minor": 2
}

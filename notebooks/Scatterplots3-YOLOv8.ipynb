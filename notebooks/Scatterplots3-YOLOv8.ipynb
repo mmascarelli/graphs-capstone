{
 "cells": [
  {
   "cell_type": "code",
   "execution_count": 1,
   "metadata": {},
   "outputs": [],
   "source": [
    "import pandas as pd\n",
    "import numpy as np\n",
    "import matplotlib.pyplot as plt\n",
    "import cv2\n",
    "\n",
    "import json\n",
    "import os\n",
    "from shutil import move, copy\n",
    "\n",
    "from ultralytics import YOLO"
   ]
  },
  {
   "attachments": {},
   "cell_type": "markdown",
   "metadata": {},
   "source": [
    "# Setting up the Data"
   ]
  },
  {
   "cell_type": "code",
   "execution_count": 2,
   "metadata": {},
   "outputs": [
    {
     "data": {
      "text/html": [
       "<div>\n",
       "<style scoped>\n",
       "    .dataframe tbody tr th:only-of-type {\n",
       "        vertical-align: middle;\n",
       "    }\n",
       "\n",
       "    .dataframe tbody tr th {\n",
       "        vertical-align: top;\n",
       "    }\n",
       "\n",
       "    .dataframe thead th {\n",
       "        text-align: right;\n",
       "    }\n",
       "</style>\n",
       "<table border=\"1\" class=\"dataframe\">\n",
       "  <thead>\n",
       "    <tr style=\"text-align: right;\">\n",
       "      <th></th>\n",
       "      <th>data_series</th>\n",
       "      <th>data_coords</th>\n",
       "      <th>name</th>\n",
       "      <th>path</th>\n",
       "    </tr>\n",
       "  </thead>\n",
       "  <tbody>\n",
       "    <tr>\n",
       "      <th>0</th>\n",
       "      <td>[{'x': 1949.4200576738224, 'y': 66.68303958393...</td>\n",
       "      <td>[[{'x': 89.33333333333334, 'y': 75.59999999999...</td>\n",
       "      <td>e91e28111e86</td>\n",
       "      <td>../data/interim/Scatterplots/e91e28111e86.jpg</td>\n",
       "    </tr>\n",
       "    <tr>\n",
       "      <th>1</th>\n",
       "      <td>[{'x': 0.9445463278316278, 'y': 52.13870797394...</td>\n",
       "      <td>[[{'x': 68.76190476190474, 'y': 188.2023809523...</td>\n",
       "      <td>66dd2a250237</td>\n",
       "      <td>../data/interim/Scatterplots/66dd2a250237.jpg</td>\n",
       "    </tr>\n",
       "    <tr>\n",
       "      <th>2</th>\n",
       "      <td>[{'x': 0.8933632249058832, 'y': 5.440194292653...</td>\n",
       "      <td>[[{'x': 93.33333333333333, 'y': 210.9666666666...</td>\n",
       "      <td>497a547454d7</td>\n",
       "      <td>../data/interim/Scatterplots/497a547454d7.jpg</td>\n",
       "    </tr>\n",
       "    <tr>\n",
       "      <th>3</th>\n",
       "      <td>[{'x': 0.9873584566532869, 'y': 30.64333251170...</td>\n",
       "      <td>[[{'x': 67.83333333333334, 'y': 167.15}, {'x':...</td>\n",
       "      <td>07fb50377c3c</td>\n",
       "      <td>../data/interim/Scatterplots/07fb50377c3c.jpg</td>\n",
       "    </tr>\n",
       "    <tr>\n",
       "      <th>4</th>\n",
       "      <td>[{'x': 1989.854169237731, 'y': 31.103360811667...</td>\n",
       "      <td>[[{'x': 105.83333333333334, 'y': 212.799999999...</td>\n",
       "      <td>daa43320159b</td>\n",
       "      <td>../data/interim/Scatterplots/daa43320159b.jpg</td>\n",
       "    </tr>\n",
       "  </tbody>\n",
       "</table>\n",
       "</div>"
      ],
      "text/plain": [
       "                                         data_series  \\\n",
       "0  [{'x': 1949.4200576738224, 'y': 66.68303958393...   \n",
       "1  [{'x': 0.9445463278316278, 'y': 52.13870797394...   \n",
       "2  [{'x': 0.8933632249058832, 'y': 5.440194292653...   \n",
       "3  [{'x': 0.9873584566532869, 'y': 30.64333251170...   \n",
       "4  [{'x': 1989.854169237731, 'y': 31.103360811667...   \n",
       "\n",
       "                                         data_coords          name  \\\n",
       "0  [[{'x': 89.33333333333334, 'y': 75.59999999999...  e91e28111e86   \n",
       "1  [[{'x': 68.76190476190474, 'y': 188.2023809523...  66dd2a250237   \n",
       "2  [[{'x': 93.33333333333333, 'y': 210.9666666666...  497a547454d7   \n",
       "3  [[{'x': 67.83333333333334, 'y': 167.15}, {'x':...  07fb50377c3c   \n",
       "4  [[{'x': 105.83333333333334, 'y': 212.799999999...  daa43320159b   \n",
       "\n",
       "                                            path  \n",
       "0  ../data/interim/Scatterplots/e91e28111e86.jpg  \n",
       "1  ../data/interim/Scatterplots/66dd2a250237.jpg  \n",
       "2  ../data/interim/Scatterplots/497a547454d7.jpg  \n",
       "3  ../data/interim/Scatterplots/07fb50377c3c.jpg  \n",
       "4  ../data/interim/Scatterplots/daa43320159b.jpg  "
      ]
     },
     "execution_count": 2,
     "metadata": {},
     "output_type": "execute_result"
    }
   ],
   "source": [
    "data = pd.read_csv('../data/interim/annots_imgs_merged.csv')\n",
    "scatterplots = data[data['chart-type'] == 'scatter']\n",
    "scatterplots = scatterplots.head(4000)\n",
    "scatterplots = scatterplots[['data-series','visual-elements.scatter points','file_name','image_path']]\n",
    "scatterplots.columns = ['data_series','data_coords','name','path']\n",
    "scatterplots.reset_index(drop=True, inplace=True)\n",
    "scatterplots.head()"
   ]
  },
  {
   "cell_type": "code",
   "execution_count": 3,
   "metadata": {},
   "outputs": [
    {
     "data": {
      "text/plain": [
       "4000"
      ]
     },
     "execution_count": 3,
     "metadata": {},
     "output_type": "execute_result"
    }
   ],
   "source": [
    "dataframes = []\n",
    "for i in range(len(scatterplots)):\n",
    "    # extract xy coordinates from data_coords column\n",
    "    coords = scatterplots['data_coords'][i]\n",
    "    coords = coords.replace(\"'\", \"\\\"\")\n",
    "    coords_list = json.loads(coords)\n",
    "\n",
    "    # extract important image info\n",
    "    path = scatterplots['path'][i]\n",
    "    name = scatterplots['name'][i]\n",
    "    img = cv2.imread(path)\n",
    "    height = img.shape[0]\n",
    "    width = img.shape[1]\n",
    "\n",
    "    # Save the xy coords into a list\n",
    "    xy_coords = []\n",
    "    for data_point in coords_list[0]:\n",
    "        xy_coords.append((data_point['x'],data_point['y']))\n",
    "\n",
    "    # Transform the xy coords into YOLO bboxes \n",
    "    bboxes = []\n",
    "    for xy in xy_coords:\n",
    "        x, y = xy\n",
    "        bbox = (int(x)/width, int(y)/height, 3/width, 3/height)\n",
    "        bboxes.append(bbox)\n",
    "\n",
    "    # Save into list of dataframe\n",
    "    yolo = pd.DataFrame(bboxes, columns=['x','y','w','h'])\n",
    "    yolo['class'] = 0\n",
    "    yolo['path'] = path\n",
    "    yolo['name'] = name\n",
    "    yolo = yolo[['path','name','class','x','y','w','h']]\n",
    "    dataframes.append(yolo)\n",
    "\n",
    "# Concat dataframes and check that the number of unique images is correct\n",
    "yolo_df = pd.concat(dataframes)\n",
    "yolo_df['path'].nunique()\n",
    "    \n"
   ]
  },
  {
   "cell_type": "code",
   "execution_count": 4,
   "metadata": {},
   "outputs": [
    {
     "data": {
      "text/html": [
       "<div>\n",
       "<style scoped>\n",
       "    .dataframe tbody tr th:only-of-type {\n",
       "        vertical-align: middle;\n",
       "    }\n",
       "\n",
       "    .dataframe tbody tr th {\n",
       "        vertical-align: top;\n",
       "    }\n",
       "\n",
       "    .dataframe thead th {\n",
       "        text-align: right;\n",
       "    }\n",
       "</style>\n",
       "<table border=\"1\" class=\"dataframe\">\n",
       "  <thead>\n",
       "    <tr style=\"text-align: right;\">\n",
       "      <th></th>\n",
       "      <th>path</th>\n",
       "      <th>name</th>\n",
       "      <th>class</th>\n",
       "      <th>x</th>\n",
       "      <th>y</th>\n",
       "      <th>w</th>\n",
       "      <th>h</th>\n",
       "    </tr>\n",
       "  </thead>\n",
       "  <tbody>\n",
       "    <tr>\n",
       "      <th>0</th>\n",
       "      <td>../data/interim/Scatterplots/e91e28111e86.jpg</td>\n",
       "      <td>e91e28111e86</td>\n",
       "      <td>0</td>\n",
       "      <td>0.176938</td>\n",
       "      <td>0.218659</td>\n",
       "      <td>0.005964</td>\n",
       "      <td>0.008746</td>\n",
       "    </tr>\n",
       "    <tr>\n",
       "      <th>1</th>\n",
       "      <td>../data/interim/Scatterplots/e91e28111e86.jpg</td>\n",
       "      <td>e91e28111e86</td>\n",
       "      <td>0</td>\n",
       "      <td>0.212724</td>\n",
       "      <td>0.221574</td>\n",
       "      <td>0.005964</td>\n",
       "      <td>0.008746</td>\n",
       "    </tr>\n",
       "    <tr>\n",
       "      <th>2</th>\n",
       "      <td>../data/interim/Scatterplots/e91e28111e86.jpg</td>\n",
       "      <td>e91e28111e86</td>\n",
       "      <td>0</td>\n",
       "      <td>0.250497</td>\n",
       "      <td>0.227405</td>\n",
       "      <td>0.005964</td>\n",
       "      <td>0.008746</td>\n",
       "    </tr>\n",
       "    <tr>\n",
       "      <th>3</th>\n",
       "      <td>../data/interim/Scatterplots/e91e28111e86.jpg</td>\n",
       "      <td>e91e28111e86</td>\n",
       "      <td>0</td>\n",
       "      <td>0.282306</td>\n",
       "      <td>0.244898</td>\n",
       "      <td>0.005964</td>\n",
       "      <td>0.008746</td>\n",
       "    </tr>\n",
       "    <tr>\n",
       "      <th>4</th>\n",
       "      <td>../data/interim/Scatterplots/e91e28111e86.jpg</td>\n",
       "      <td>e91e28111e86</td>\n",
       "      <td>0</td>\n",
       "      <td>0.314115</td>\n",
       "      <td>0.268222</td>\n",
       "      <td>0.005964</td>\n",
       "      <td>0.008746</td>\n",
       "    </tr>\n",
       "  </tbody>\n",
       "</table>\n",
       "</div>"
      ],
      "text/plain": [
       "                                            path          name  class  \\\n",
       "0  ../data/interim/Scatterplots/e91e28111e86.jpg  e91e28111e86      0   \n",
       "1  ../data/interim/Scatterplots/e91e28111e86.jpg  e91e28111e86      0   \n",
       "2  ../data/interim/Scatterplots/e91e28111e86.jpg  e91e28111e86      0   \n",
       "3  ../data/interim/Scatterplots/e91e28111e86.jpg  e91e28111e86      0   \n",
       "4  ../data/interim/Scatterplots/e91e28111e86.jpg  e91e28111e86      0   \n",
       "\n",
       "          x         y         w         h  \n",
       "0  0.176938  0.218659  0.005964  0.008746  \n",
       "1  0.212724  0.221574  0.005964  0.008746  \n",
       "2  0.250497  0.227405  0.005964  0.008746  \n",
       "3  0.282306  0.244898  0.005964  0.008746  \n",
       "4  0.314115  0.268222  0.005964  0.008746  "
      ]
     },
     "execution_count": 4,
     "metadata": {},
     "output_type": "execute_result"
    }
   ],
   "source": [
    "yolo_df.head()"
   ]
  },
  {
   "attachments": {},
   "cell_type": "markdown",
   "metadata": {},
   "source": [
    "# Train/Test Split"
   ]
  },
  {
   "cell_type": "code",
   "execution_count": 5,
   "metadata": {},
   "outputs": [
    {
     "data": {
      "text/plain": [
       "(3200, 800)"
      ]
     },
     "execution_count": 5,
     "metadata": {},
     "output_type": "execute_result"
    }
   ],
   "source": [
    "unique_images = yolo_df['path'].unique()\n",
    "img_df = pd.DataFrame(unique_images,columns=['path'])\n",
    "img_train = tuple(img_df.sample(frac=0.8)['path'])\n",
    "img_test = tuple(img_df.query(f'path not in {img_train}')['path'])\n",
    "len(img_train), len(img_test)"
   ]
  },
  {
   "cell_type": "code",
   "execution_count": 6,
   "metadata": {},
   "outputs": [],
   "source": [
    "train_df = yolo_df.query(f'path in {img_train}')\n",
    "test_df = yolo_df.query(f'path in {img_test}')"
   ]
  },
  {
   "cell_type": "code",
   "execution_count": 7,
   "metadata": {},
   "outputs": [
    {
     "data": {
      "text/html": [
       "<div>\n",
       "<style scoped>\n",
       "    .dataframe tbody tr th:only-of-type {\n",
       "        vertical-align: middle;\n",
       "    }\n",
       "\n",
       "    .dataframe tbody tr th {\n",
       "        vertical-align: top;\n",
       "    }\n",
       "\n",
       "    .dataframe thead th {\n",
       "        text-align: right;\n",
       "    }\n",
       "</style>\n",
       "<table border=\"1\" class=\"dataframe\">\n",
       "  <thead>\n",
       "    <tr style=\"text-align: right;\">\n",
       "      <th></th>\n",
       "      <th>path</th>\n",
       "      <th>name</th>\n",
       "      <th>class</th>\n",
       "      <th>x</th>\n",
       "      <th>y</th>\n",
       "      <th>w</th>\n",
       "      <th>h</th>\n",
       "    </tr>\n",
       "  </thead>\n",
       "  <tbody>\n",
       "    <tr>\n",
       "      <th>0</th>\n",
       "      <td>../data/interim/Scatterplots/66dd2a250237.jpg</td>\n",
       "      <td>66dd2a250237</td>\n",
       "      <td>0</td>\n",
       "      <td>0.143763</td>\n",
       "      <td>0.696296</td>\n",
       "      <td>0.006342</td>\n",
       "      <td>0.011111</td>\n",
       "    </tr>\n",
       "    <tr>\n",
       "      <th>1</th>\n",
       "      <td>../data/interim/Scatterplots/66dd2a250237.jpg</td>\n",
       "      <td>66dd2a250237</td>\n",
       "      <td>0</td>\n",
       "      <td>0.179704</td>\n",
       "      <td>0.588889</td>\n",
       "      <td>0.006342</td>\n",
       "      <td>0.011111</td>\n",
       "    </tr>\n",
       "    <tr>\n",
       "      <th>2</th>\n",
       "      <td>../data/interim/Scatterplots/66dd2a250237.jpg</td>\n",
       "      <td>66dd2a250237</td>\n",
       "      <td>0</td>\n",
       "      <td>0.211416</td>\n",
       "      <td>0.548148</td>\n",
       "      <td>0.006342</td>\n",
       "      <td>0.011111</td>\n",
       "    </tr>\n",
       "    <tr>\n",
       "      <th>3</th>\n",
       "      <td>../data/interim/Scatterplots/66dd2a250237.jpg</td>\n",
       "      <td>66dd2a250237</td>\n",
       "      <td>0</td>\n",
       "      <td>0.245243</td>\n",
       "      <td>0.737037</td>\n",
       "      <td>0.006342</td>\n",
       "      <td>0.011111</td>\n",
       "    </tr>\n",
       "    <tr>\n",
       "      <th>4</th>\n",
       "      <td>../data/interim/Scatterplots/66dd2a250237.jpg</td>\n",
       "      <td>66dd2a250237</td>\n",
       "      <td>0</td>\n",
       "      <td>0.276956</td>\n",
       "      <td>0.222222</td>\n",
       "      <td>0.006342</td>\n",
       "      <td>0.011111</td>\n",
       "    </tr>\n",
       "    <tr>\n",
       "      <th>...</th>\n",
       "      <td>...</td>\n",
       "      <td>...</td>\n",
       "      <td>...</td>\n",
       "      <td>...</td>\n",
       "      <td>...</td>\n",
       "      <td>...</td>\n",
       "      <td>...</td>\n",
       "    </tr>\n",
       "    <tr>\n",
       "      <th>27</th>\n",
       "      <td>../data/interim/Scatterplots/08181d5dbf44.jpg</td>\n",
       "      <td>08181d5dbf44</td>\n",
       "      <td>0</td>\n",
       "      <td>0.863454</td>\n",
       "      <td>0.795222</td>\n",
       "      <td>0.006024</td>\n",
       "      <td>0.010239</td>\n",
       "    </tr>\n",
       "    <tr>\n",
       "      <th>28</th>\n",
       "      <td>../data/interim/Scatterplots/08181d5dbf44.jpg</td>\n",
       "      <td>08181d5dbf44</td>\n",
       "      <td>0</td>\n",
       "      <td>0.893574</td>\n",
       "      <td>0.679181</td>\n",
       "      <td>0.006024</td>\n",
       "      <td>0.010239</td>\n",
       "    </tr>\n",
       "    <tr>\n",
       "      <th>29</th>\n",
       "      <td>../data/interim/Scatterplots/08181d5dbf44.jpg</td>\n",
       "      <td>08181d5dbf44</td>\n",
       "      <td>0</td>\n",
       "      <td>0.921687</td>\n",
       "      <td>0.252560</td>\n",
       "      <td>0.006024</td>\n",
       "      <td>0.010239</td>\n",
       "    </tr>\n",
       "    <tr>\n",
       "      <th>30</th>\n",
       "      <td>../data/interim/Scatterplots/08181d5dbf44.jpg</td>\n",
       "      <td>08181d5dbf44</td>\n",
       "      <td>0</td>\n",
       "      <td>0.951807</td>\n",
       "      <td>0.563140</td>\n",
       "      <td>0.006024</td>\n",
       "      <td>0.010239</td>\n",
       "    </tr>\n",
       "    <tr>\n",
       "      <th>31</th>\n",
       "      <td>../data/interim/Scatterplots/08181d5dbf44.jpg</td>\n",
       "      <td>08181d5dbf44</td>\n",
       "      <td>0</td>\n",
       "      <td>0.953815</td>\n",
       "      <td>0.563140</td>\n",
       "      <td>0.006024</td>\n",
       "      <td>0.010239</td>\n",
       "    </tr>\n",
       "  </tbody>\n",
       "</table>\n",
       "<p>65683 rows × 7 columns</p>\n",
       "</div>"
      ],
      "text/plain": [
       "                                             path          name  class  \\\n",
       "0   ../data/interim/Scatterplots/66dd2a250237.jpg  66dd2a250237      0   \n",
       "1   ../data/interim/Scatterplots/66dd2a250237.jpg  66dd2a250237      0   \n",
       "2   ../data/interim/Scatterplots/66dd2a250237.jpg  66dd2a250237      0   \n",
       "3   ../data/interim/Scatterplots/66dd2a250237.jpg  66dd2a250237      0   \n",
       "4   ../data/interim/Scatterplots/66dd2a250237.jpg  66dd2a250237      0   \n",
       "..                                            ...           ...    ...   \n",
       "27  ../data/interim/Scatterplots/08181d5dbf44.jpg  08181d5dbf44      0   \n",
       "28  ../data/interim/Scatterplots/08181d5dbf44.jpg  08181d5dbf44      0   \n",
       "29  ../data/interim/Scatterplots/08181d5dbf44.jpg  08181d5dbf44      0   \n",
       "30  ../data/interim/Scatterplots/08181d5dbf44.jpg  08181d5dbf44      0   \n",
       "31  ../data/interim/Scatterplots/08181d5dbf44.jpg  08181d5dbf44      0   \n",
       "\n",
       "           x         y         w         h  \n",
       "0   0.143763  0.696296  0.006342  0.011111  \n",
       "1   0.179704  0.588889  0.006342  0.011111  \n",
       "2   0.211416  0.548148  0.006342  0.011111  \n",
       "3   0.245243  0.737037  0.006342  0.011111  \n",
       "4   0.276956  0.222222  0.006342  0.011111  \n",
       "..       ...       ...       ...       ...  \n",
       "27  0.863454  0.795222  0.006024  0.010239  \n",
       "28  0.893574  0.679181  0.006024  0.010239  \n",
       "29  0.921687  0.252560  0.006024  0.010239  \n",
       "30  0.951807  0.563140  0.006024  0.010239  \n",
       "31  0.953815  0.563140  0.006024  0.010239  \n",
       "\n",
       "[65683 rows x 7 columns]"
      ]
     },
     "execution_count": 7,
     "metadata": {},
     "output_type": "execute_result"
    }
   ],
   "source": [
    "train_df"
   ]
  },
  {
   "cell_type": "code",
   "execution_count": 8,
   "metadata": {},
   "outputs": [],
   "source": [
    "src_folder = '../data/interim/Scatterplots/'\n",
    "train_folder = '../data/YOLO/Scatterplots/train/'\n",
    "test_folder = '../data/YOLO/Scatterplots/test/'"
   ]
  },
  {
   "cell_type": "code",
   "execution_count": 9,
   "metadata": {},
   "outputs": [],
   "source": [
    "cols = ['name','class','x','y','w','h']\n",
    "groupby_obj_train = train_df[cols].groupby('name')\n",
    "groupby_obj_test = test_df[cols].groupby('name')"
   ]
  },
  {
   "cell_type": "code",
   "execution_count": 10,
   "metadata": {},
   "outputs": [],
   "source": [
    "def save_data(filename, folder_path, group_obj):\n",
    "    #copy image\n",
    "    src = os.path.join(src_folder,filename)+'.jpg'\n",
    "    dst = os.path.join(folder_path, filename)+'.jpg'\n",
    "    copy(src, dst)\n",
    "\n",
    "    #save labels\n",
    "    text_filename = os.path.join(folder_path,filename+'.txt')\n",
    "    group_obj.get_group(filename).set_index('name').to_csv(text_filename, index=False, header=False, sep=' ')"
   ]
  },
  {
   "cell_type": "code",
   "execution_count": 11,
   "metadata": {},
   "outputs": [
    {
     "data": {
      "text/plain": [
       "0       None\n",
       "1       None\n",
       "2       None\n",
       "3       None\n",
       "4       None\n",
       "        ... \n",
       "3195    None\n",
       "3196    None\n",
       "3197    None\n",
       "3198    None\n",
       "3199    None\n",
       "Length: 3200, dtype: object"
      ]
     },
     "execution_count": 11,
     "metadata": {},
     "output_type": "execute_result"
    }
   ],
   "source": [
    "filename_series = pd.Series(groupby_obj_train.groups.keys())\n",
    "filename_series.apply(save_data,args=(train_folder, groupby_obj_train))"
   ]
  },
  {
   "cell_type": "code",
   "execution_count": 12,
   "metadata": {},
   "outputs": [
    {
     "data": {
      "text/plain": [
       "0      None\n",
       "1      None\n",
       "2      None\n",
       "3      None\n",
       "4      None\n",
       "       ... \n",
       "795    None\n",
       "796    None\n",
       "797    None\n",
       "798    None\n",
       "799    None\n",
       "Length: 800, dtype: object"
      ]
     },
     "execution_count": 12,
     "metadata": {},
     "output_type": "execute_result"
    }
   ],
   "source": [
    "filename_series_test = pd.Series(groupby_obj_test.groups.keys())\n",
    "filename_series_test.apply(save_data,args=(test_folder, groupby_obj_test))\n"
   ]
  },
  {
   "attachments": {},
   "cell_type": "markdown",
   "metadata": {},
   "source": [
    "# Training the Model"
   ]
  },
  {
   "cell_type": "code",
   "execution_count": 17,
   "metadata": {},
   "outputs": [
    {
     "name": "stderr",
     "output_type": "stream",
     "text": [
      "\n",
      "                   from  n    params  module                                       arguments                     \n",
      "  0                  -1  1       928  ultralytics.nn.modules.conv.Conv             [3, 32, 3, 2]                 \n",
      "  1                  -1  1     18560  ultralytics.nn.modules.conv.Conv             [32, 64, 3, 2]                \n",
      "  2                  -1  1     29056  ultralytics.nn.modules.block.C2f             [64, 64, 1, True]             \n",
      "  3                  -1  1     73984  ultralytics.nn.modules.conv.Conv             [64, 128, 3, 2]               \n",
      "  4                  -1  2    197632  ultralytics.nn.modules.block.C2f             [128, 128, 2, True]           \n",
      "  5                  -1  1    295424  ultralytics.nn.modules.conv.Conv             [128, 256, 3, 2]              \n",
      "  6                  -1  2    788480  ultralytics.nn.modules.block.C2f             [256, 256, 2, True]           \n",
      "  7                  -1  1   1180672  ultralytics.nn.modules.conv.Conv             [256, 512, 3, 2]              \n",
      "  8                  -1  1   1838080  ultralytics.nn.modules.block.C2f             [512, 512, 1, True]           \n",
      "  9                  -1  1    656896  ultralytics.nn.modules.block.SPPF            [512, 512, 5]                 \n",
      " 10                  -1  1         0  torch.nn.modules.upsampling.Upsample         [None, 2, 'nearest']          \n"
     ]
    },
    {
     "name": "stderr",
     "output_type": "stream",
     "text": [
      " 11             [-1, 6]  1         0  ultralytics.nn.modules.conv.Concat           [1]                           \n",
      " 12                  -1  1    591360  ultralytics.nn.modules.block.C2f             [768, 256, 1]                 \n",
      " 13                  -1  1         0  torch.nn.modules.upsampling.Upsample         [None, 2, 'nearest']          \n",
      " 14             [-1, 4]  1         0  ultralytics.nn.modules.conv.Concat           [1]                           \n",
      " 15                  -1  1    148224  ultralytics.nn.modules.block.C2f             [384, 128, 1]                 \n",
      " 16                  -1  1         0  torch.nn.modules.upsampling.Upsample         [None, 2, 'nearest']          \n",
      " 17             [-1, 2]  1         0  ultralytics.nn.modules.conv.Concat           [1]                           \n",
      " 18                  -1  1     37248  ultralytics.nn.modules.block.C2f             [192, 64, 1]                  \n",
      " 19                  -1  1     36992  ultralytics.nn.modules.conv.Conv             [64, 64, 3, 2]                \n",
      " 20            [-1, 15]  1         0  ultralytics.nn.modules.conv.Concat           [1]                           \n",
      " 21                  -1  1    123648  ultralytics.nn.modules.block.C2f             [192, 128, 1]                 \n",
      " 22                  -1  1    147712  ultralytics.nn.modules.conv.Conv             [128, 128, 3, 2]              \n",
      " 23            [-1, 12]  1         0  ultralytics.nn.modules.conv.Concat           [1]                           \n",
      " 24                  -1  1    493056  ultralytics.nn.modules.block.C2f             [384, 256, 1]                 \n",
      " 25                  -1  1    590336  ultralytics.nn.modules.conv.Conv             [256, 256, 3, 2]              \n",
      " 26             [-1, 9]  1         0  ultralytics.nn.modules.conv.Concat           [1]                           \n",
      " 27                  -1  1   1969152  ultralytics.nn.modules.block.C2f             [768, 512, 1]                 \n",
      " 28    [18, 21, 24, 27]  1   1666896  ultralytics.nn.modules.head.Detect           [80, [64, 128, 256, 512]]     \n",
      "YOLOv8s-p2 summary: 277 layers, 10884336 parameters, 10884320 gradients\n",
      "\n"
     ]
    },
    {
     "name": "stdout",
     "output_type": "stream",
     "text": [
      "2023-07-17 12:20:25,276 - clearml.model - INFO - Selected model id: a66c01fc59c8440199f8fbb7ae883e3e\n"
     ]
    },
    {
     "name": "stderr",
     "output_type": "stream",
     "text": [
      "Transferred 219/437 items from pretrained weights\n"
     ]
    }
   ],
   "source": [
    "model = YOLO('yolov8s-p2.yaml').load('yolov8s.pt')"
   ]
  },
  {
   "cell_type": "code",
   "execution_count": 18,
   "metadata": {},
   "outputs": [
    {
     "name": "stderr",
     "output_type": "stream",
     "text": [
      "New https://pypi.org/project/ultralytics/8.0.136 available 😃 Update with 'pip install -U ultralytics'\n",
      "Ultralytics YOLOv8.0.124 🚀 Python-3.11.3 torch-2.0.1 CPU\n",
      "\u001b[34m\u001b[1myolo/engine/trainer: \u001b[0mtask=detect, mode=train, model=yolov8s-p2.yaml, data=/Users/matt/Desktop/graphs-capstone/data/YOLO/Scatterplots/data.yaml, epochs=50, patience=50, batch=16, imgsz=640, save=True, save_period=-1, cache=False, device=None, workers=8, project=None, name=None, exist_ok=False, pretrained=True, optimizer=auto, verbose=True, seed=0, deterministic=True, single_cls=False, rect=False, cos_lr=False, close_mosaic=0, resume=False, amp=True, fraction=1.0, profile=False, overlap_mask=True, mask_ratio=4, dropout=0.0, val=True, split=val, save_json=False, save_hybrid=False, conf=None, iou=0.7, max_det=300, half=False, dnn=False, plots=True, source=None, show=False, save_txt=False, save_conf=False, save_crop=False, show_labels=True, show_conf=True, vid_stride=1, line_width=None, visualize=False, augment=False, agnostic_nms=False, classes=None, retina_masks=False, boxes=True, format=torchscript, keras=False, optimize=False, int8=False, dynamic=False, simplify=False, opset=None, workspace=4, nms=False, lr0=0.01, lrf=0.01, momentum=0.937, weight_decay=0.0005, warmup_epochs=3.0, warmup_momentum=0.8, warmup_bias_lr=0.1, box=7.5, cls=0.5, dfl=1.5, pose=12.0, kobj=1.0, label_smoothing=0.0, nbs=64, hsv_h=0.015, hsv_s=0.7, hsv_v=0.4, degrees=0.0, translate=0.1, scale=0.5, shear=0.0, perspective=0.0, flipud=0.0, fliplr=0.5, mosaic=1.0, mixup=0.0, copy_paste=0.0, cfg=None, v5loader=False, tracker=botsort.yaml, save_dir=runs/detect/train\n",
      "Overriding model.yaml nc=80 with nc=1\n",
      "\n",
      "                   from  n    params  module                                       arguments                     \n",
      "  0                  -1  1       928  ultralytics.nn.modules.conv.Conv             [3, 32, 3, 2]                 \n",
      "  1                  -1  1     18560  ultralytics.nn.modules.conv.Conv             [32, 64, 3, 2]                \n",
      "  2                  -1  1     29056  ultralytics.nn.modules.block.C2f             [64, 64, 1, True]             \n",
      "  3                  -1  1     73984  ultralytics.nn.modules.conv.Conv             [64, 128, 3, 2]               \n",
      "  4                  -1  2    197632  ultralytics.nn.modules.block.C2f             [128, 128, 2, True]           \n",
      "  5                  -1  1    295424  ultralytics.nn.modules.conv.Conv             [128, 256, 3, 2]              \n",
      "  6                  -1  2    788480  ultralytics.nn.modules.block.C2f             [256, 256, 2, True]           \n",
      "  7                  -1  1   1180672  ultralytics.nn.modules.conv.Conv             [256, 512, 3, 2]              \n",
      "  8                  -1  1   1838080  ultralytics.nn.modules.block.C2f             [512, 512, 1, True]           \n",
      "  9                  -1  1    656896  ultralytics.nn.modules.block.SPPF            [512, 512, 5]                 \n",
      " 10                  -1  1         0  torch.nn.modules.upsampling.Upsample         [None, 2, 'nearest']          \n",
      " 11             [-1, 6]  1         0  ultralytics.nn.modules.conv.Concat           [1]                           \n",
      " 12                  -1  1    591360  ultralytics.nn.modules.block.C2f             [768, 256, 1]                 \n",
      " 13                  -1  1         0  torch.nn.modules.upsampling.Upsample         [None, 2, 'nearest']          \n",
      " 14             [-1, 4]  1         0  ultralytics.nn.modules.conv.Concat           [1]                           \n",
      " 15                  -1  1    148224  ultralytics.nn.modules.block.C2f             [384, 128, 1]                 \n",
      " 16                  -1  1         0  torch.nn.modules.upsampling.Upsample         [None, 2, 'nearest']          \n",
      " 17             [-1, 2]  1         0  ultralytics.nn.modules.conv.Concat           [1]                           \n",
      " 18                  -1  1     37248  ultralytics.nn.modules.block.C2f             [192, 64, 1]                  \n",
      " 19                  -1  1     36992  ultralytics.nn.modules.conv.Conv             [64, 64, 3, 2]                \n",
      " 20            [-1, 15]  1         0  ultralytics.nn.modules.conv.Concat           [1]                           \n",
      " 21                  -1  1    123648  ultralytics.nn.modules.block.C2f             [192, 128, 1]                 \n",
      " 22                  -1  1    147712  ultralytics.nn.modules.conv.Conv             [128, 128, 3, 2]              \n",
      " 23            [-1, 12]  1         0  ultralytics.nn.modules.conv.Concat           [1]                           \n",
      " 24                  -1  1    493056  ultralytics.nn.modules.block.C2f             [384, 256, 1]                 \n",
      " 25                  -1  1    590336  ultralytics.nn.modules.conv.Conv             [256, 256, 3, 2]              \n",
      " 26             [-1, 9]  1         0  ultralytics.nn.modules.conv.Concat           [1]                           \n",
      " 27                  -1  1   1969152  ultralytics.nn.modules.block.C2f             [768, 512, 1]                 \n",
      " 28    [18, 21, 24, 27]  1   1419796  ultralytics.nn.modules.head.Detect           [1, [64, 128, 256, 512]]      \n",
      "YOLOv8s-p2 summary: 277 layers, 10637236 parameters, 10637220 gradients\n",
      "\n",
      "Transferred 389/437 items from pretrained weights\n",
      "\u001b[34m\u001b[1mTensorBoard: \u001b[0mStart with 'tensorboard --logdir runs/detect/train', view at http://localhost:6006/\n",
      "\u001b[34m\u001b[1mtrain: \u001b[0mScanning /Users/matt/Desktop/graphs-capstone/data/YOLO/Scatterplots/train... 3200 images, 0 backgrounds, 0 corrupt: 100%|██████████| 3200/3200 [00:09<00:00, 334.87it/s]\n",
      "\u001b[34m\u001b[1mtrain: \u001b[0mNew cache created: /Users/matt/Desktop/graphs-capstone/data/YOLO/Scatterplots/train.cache\n",
      "\u001b[34m\u001b[1mval: \u001b[0mScanning /Users/matt/Desktop/graphs-capstone/data/YOLO/Scatterplots/test... 800 images, 0 backgrounds, 0 corrupt: 100%|██████████| 800/800 [00:01<00:00, 477.32it/s]\n",
      "\u001b[34m\u001b[1mval: \u001b[0mNew cache created: /Users/matt/Desktop/graphs-capstone/data/YOLO/Scatterplots/test.cache\n",
      "Plotting labels to runs/detect/train/labels.jpg... \n",
      "\u001b[34m\u001b[1moptimizer:\u001b[0m AdamW(lr=0.002, momentum=0.9) with parameter groups 70 weight(decay=0.0), 79 weight(decay=0.0005), 78 bias(decay=0.0)\n",
      "Image sizes 640 train, 640 val\n",
      "Using 0 dataloader workers\n",
      "Logging results to \u001b[1mruns/detect/train\u001b[0m\n",
      "Starting training for 50 epochs...\n",
      "\n",
      "      Epoch    GPU_mem   box_loss   cls_loss   dfl_loss  Instances       Size\n",
      "  0%|          | 0/200 [00:00<?, ?it/s]"
     ]
    }
   ],
   "source": [
    "results = model.train(data='../data/YOLO/Scatterplots/data.yaml', epochs=30)"
   ]
  },
  {
   "cell_type": "code",
   "execution_count": null,
   "metadata": {},
   "outputs": [],
   "source": []
  },
  {
   "cell_type": "code",
   "execution_count": null,
   "metadata": {},
   "outputs": [],
   "source": []
  }
 ],
 "metadata": {
  "kernelspec": {
   "display_name": "graphs-capstone-env",
   "language": "python",
   "name": "python3"
  },
  "language_info": {
   "codemirror_mode": {
    "name": "ipython",
    "version": 3
   },
   "file_extension": ".py",
   "mimetype": "text/x-python",
   "name": "python",
   "nbconvert_exporter": "python",
   "pygments_lexer": "ipython3",
   "version": "3.11.3"
  },
  "orig_nbformat": 4
 },
 "nbformat": 4,
 "nbformat_minor": 2
}
